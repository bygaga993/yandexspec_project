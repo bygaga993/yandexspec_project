{
 "cells": [
  {
   "cell_type": "code",
   "execution_count": 1,
   "metadata": {},
   "outputs": [],
   "source": [
    "import pandas as pd\n",
    "import matplotlib.pyplot as plt\n",
    "import seaborn as sns\n",
    "import numpy as np"
   ]
  },
  {
   "cell_type": "code",
   "execution_count": 4,
   "metadata": {},
   "outputs": [
    {
     "data": {
      "text/html": [
       "<div>\n",
       "<style scoped>\n",
       "    .dataframe tbody tr th:only-of-type {\n",
       "        vertical-align: middle;\n",
       "    }\n",
       "\n",
       "    .dataframe tbody tr th {\n",
       "        vertical-align: top;\n",
       "    }\n",
       "\n",
       "    .dataframe thead th {\n",
       "        text-align: right;\n",
       "    }\n",
       "</style>\n",
       "<table border=\"1\" class=\"dataframe\">\n",
       "  <thead>\n",
       "    <tr style=\"text-align: right;\">\n",
       "      <th></th>\n",
       "      <th>Id</th>\n",
       "      <th>Start Date</th>\n",
       "      <th>End Date</th>\n",
       "      <th>Start Location</th>\n",
       "      <th>Start District</th>\n",
       "      <th>End Location</th>\n",
       "      <th>End District</th>\n",
       "      <th>Distance</th>\n",
       "      <th>Promo</th>\n",
       "    </tr>\n",
       "  </thead>\n",
       "  <tbody>\n",
       "    <tr>\n",
       "      <th>0</th>\n",
       "      <td>100340</td>\n",
       "      <td>2023-04-22 09:01:03</td>\n",
       "      <td>2023-04-22 09:24:45</td>\n",
       "      <td>Шевченко</td>\n",
       "      <td>Юго-Восточный</td>\n",
       "      <td>Майская</td>\n",
       "      <td>Октябрьский</td>\n",
       "      <td>4069.0</td>\n",
       "      <td>0</td>\n",
       "    </tr>\n",
       "    <tr>\n",
       "      <th>1</th>\n",
       "      <td>100341</td>\n",
       "      <td>2023-04-22 09:01:07</td>\n",
       "      <td>2023-04-22 09:29:32</td>\n",
       "      <td>Чехова</td>\n",
       "      <td>заречный</td>\n",
       "      <td>Спортивная</td>\n",
       "      <td>октябрьский</td>\n",
       "      <td>4515.0</td>\n",
       "      <td>0</td>\n",
       "    </tr>\n",
       "    <tr>\n",
       "      <th>2</th>\n",
       "      <td>100342</td>\n",
       "      <td>2023-04-22 09:04:27</td>\n",
       "      <td>2023-04-22 09:42:46</td>\n",
       "      <td>Буденного</td>\n",
       "      <td>Октябрьский</td>\n",
       "      <td>Суворова</td>\n",
       "      <td>ленинский</td>\n",
       "      <td>4520.0</td>\n",
       "      <td>0</td>\n",
       "    </tr>\n",
       "    <tr>\n",
       "      <th>3</th>\n",
       "      <td>100343</td>\n",
       "      <td>2023-04-22 09:06:34</td>\n",
       "      <td>2023-04-22 09:38:23</td>\n",
       "      <td>Труда</td>\n",
       "      <td>Центральный</td>\n",
       "      <td>Рабочая</td>\n",
       "      <td>Северо-Западный</td>\n",
       "      <td>3881.0</td>\n",
       "      <td>0</td>\n",
       "    </tr>\n",
       "    <tr>\n",
       "      <th>4</th>\n",
       "      <td>100344</td>\n",
       "      <td>2023-04-22 09:09:27</td>\n",
       "      <td>2023-04-22 09:40:07</td>\n",
       "      <td>Первомайская</td>\n",
       "      <td>Северо-Западный</td>\n",
       "      <td>Юбилейная</td>\n",
       "      <td>Юго-Восточный</td>\n",
       "      <td>4029.0</td>\n",
       "      <td>0</td>\n",
       "    </tr>\n",
       "    <tr>\n",
       "      <th>5</th>\n",
       "      <td>100345</td>\n",
       "      <td>2023-04-22 09:10:09</td>\n",
       "      <td>2023-04-22 09:49:56</td>\n",
       "      <td>Лесная</td>\n",
       "      <td>Юго-Восточный</td>\n",
       "      <td>Западная</td>\n",
       "      <td>Ленинский</td>\n",
       "      <td>4879.0</td>\n",
       "      <td>0</td>\n",
       "    </tr>\n",
       "    <tr>\n",
       "      <th>6</th>\n",
       "      <td>100346</td>\n",
       "      <td>2023-04-22 09:15:12</td>\n",
       "      <td>2023-04-22 09:26:01</td>\n",
       "      <td>Пролетарская</td>\n",
       "      <td>Центральный</td>\n",
       "      <td>Свободы</td>\n",
       "      <td>Ленинский</td>\n",
       "      <td>1846.0</td>\n",
       "      <td>0</td>\n",
       "    </tr>\n",
       "    <tr>\n",
       "      <th>7</th>\n",
       "      <td>100347</td>\n",
       "      <td>2023-04-22 09:19:13</td>\n",
       "      <td>2023-04-22 09:40:03</td>\n",
       "      <td>Комарова</td>\n",
       "      <td>Ленинский</td>\n",
       "      <td>ул. западная</td>\n",
       "      <td>Ленинский</td>\n",
       "      <td>3133.0</td>\n",
       "      <td>0</td>\n",
       "    </tr>\n",
       "  </tbody>\n",
       "</table>\n",
       "</div>"
      ],
      "text/plain": [
       "       Id           Start Date             End Date Start Location  \\\n",
       "0  100340  2023-04-22 09:01:03  2023-04-22 09:24:45       Шевченко   \n",
       "1  100341  2023-04-22 09:01:07  2023-04-22 09:29:32         Чехова   \n",
       "2  100342  2023-04-22 09:04:27  2023-04-22 09:42:46      Буденного   \n",
       "3  100343  2023-04-22 09:06:34  2023-04-22 09:38:23          Труда   \n",
       "4  100344  2023-04-22 09:09:27  2023-04-22 09:40:07   Первомайская   \n",
       "5  100345  2023-04-22 09:10:09  2023-04-22 09:49:56         Лесная   \n",
       "6  100346  2023-04-22 09:15:12  2023-04-22 09:26:01   Пролетарская   \n",
       "7  100347  2023-04-22 09:19:13  2023-04-22 09:40:03       Комарова   \n",
       "\n",
       "    Start District  End Location     End District  Distance  Promo  \n",
       "0    Юго-Восточный       Майская      Октябрьский    4069.0      0  \n",
       "1         заречный    Спортивная      октябрьский    4515.0      0  \n",
       "2      Октябрьский      Суворова        ленинский    4520.0      0  \n",
       "3      Центральный       Рабочая  Северо-Западный    3881.0      0  \n",
       "4  Северо-Западный     Юбилейная    Юго-Восточный    4029.0      0  \n",
       "5    Юго-Восточный      Западная        Ленинский    4879.0      0  \n",
       "6      Центральный       Свободы        Ленинский    1846.0      0  \n",
       "7        Ленинский  ул. западная        Ленинский    3133.0      0  "
      ]
     },
     "execution_count": 4,
     "metadata": {},
     "output_type": "execute_result"
    }
   ],
   "source": [
    "data_rides= pd.read_csv(\"files/rides.csv\", sep=\",\")\n",
    "data_rides.head(8)"
   ]
  },
  {
   "cell_type": "code",
   "execution_count": 7,
   "metadata": {},
   "outputs": [],
   "source": [
    "for i in data_rides.columns:\n",
    "    data_rides = data_rides.rename(columns={i: i.lower().replace(\" \", \"_\")})"
   ]
  },
  {
   "cell_type": "code",
   "execution_count": 8,
   "metadata": {},
   "outputs": [
    {
     "data": {
      "text/plain": [
       "Index(['id', 'start_date', 'end_date', 'start_location', 'start_district',\n",
       "       'end_location', 'end_district', 'distance', 'promo'],\n",
       "      dtype='object')"
      ]
     },
     "execution_count": 8,
     "metadata": {},
     "output_type": "execute_result"
    }
   ],
   "source": [
    "data_rides.columns"
   ]
  },
  {
   "cell_type": "code",
   "execution_count": 10,
   "metadata": {},
   "outputs": [
    {
     "data": {
      "text/html": [
       "<div>\n",
       "<style scoped>\n",
       "    .dataframe tbody tr th:only-of-type {\n",
       "        vertical-align: middle;\n",
       "    }\n",
       "\n",
       "    .dataframe tbody tr th {\n",
       "        vertical-align: top;\n",
       "    }\n",
       "\n",
       "    .dataframe thead th {\n",
       "        text-align: right;\n",
       "    }\n",
       "</style>\n",
       "<table border=\"1\" class=\"dataframe\">\n",
       "  <thead>\n",
       "    <tr style=\"text-align: right;\">\n",
       "      <th></th>\n",
       "      <th>id</th>\n",
       "      <th>start_date</th>\n",
       "      <th>end_date</th>\n",
       "      <th>start_location</th>\n",
       "      <th>start_district</th>\n",
       "      <th>end_location</th>\n",
       "      <th>end_district</th>\n",
       "      <th>distance</th>\n",
       "      <th>promo</th>\n",
       "    </tr>\n",
       "  </thead>\n",
       "  <tbody>\n",
       "    <tr>\n",
       "      <th>0</th>\n",
       "      <td>100340</td>\n",
       "      <td>2023-04-22 09:01:03</td>\n",
       "      <td>2023-04-22 09:24:45</td>\n",
       "      <td>Шевченко</td>\n",
       "      <td>Юго-Восточный</td>\n",
       "      <td>Майская</td>\n",
       "      <td>Октябрьский</td>\n",
       "      <td>4069.0</td>\n",
       "      <td>False</td>\n",
       "    </tr>\n",
       "    <tr>\n",
       "      <th>1</th>\n",
       "      <td>100341</td>\n",
       "      <td>2023-04-22 09:01:07</td>\n",
       "      <td>2023-04-22 09:29:32</td>\n",
       "      <td>Чехова</td>\n",
       "      <td>заречный</td>\n",
       "      <td>Спортивная</td>\n",
       "      <td>октябрьский</td>\n",
       "      <td>4515.0</td>\n",
       "      <td>False</td>\n",
       "    </tr>\n",
       "    <tr>\n",
       "      <th>2</th>\n",
       "      <td>100342</td>\n",
       "      <td>2023-04-22 09:04:27</td>\n",
       "      <td>2023-04-22 09:42:46</td>\n",
       "      <td>Буденного</td>\n",
       "      <td>Октябрьский</td>\n",
       "      <td>Суворова</td>\n",
       "      <td>ленинский</td>\n",
       "      <td>4520.0</td>\n",
       "      <td>False</td>\n",
       "    </tr>\n",
       "    <tr>\n",
       "      <th>3</th>\n",
       "      <td>100343</td>\n",
       "      <td>2023-04-22 09:06:34</td>\n",
       "      <td>2023-04-22 09:38:23</td>\n",
       "      <td>Труда</td>\n",
       "      <td>Центральный</td>\n",
       "      <td>Рабочая</td>\n",
       "      <td>Северо-Западный</td>\n",
       "      <td>3881.0</td>\n",
       "      <td>False</td>\n",
       "    </tr>\n",
       "    <tr>\n",
       "      <th>4</th>\n",
       "      <td>100344</td>\n",
       "      <td>2023-04-22 09:09:27</td>\n",
       "      <td>2023-04-22 09:40:07</td>\n",
       "      <td>Первомайская</td>\n",
       "      <td>Северо-Западный</td>\n",
       "      <td>Юбилейная</td>\n",
       "      <td>Юго-Восточный</td>\n",
       "      <td>4029.0</td>\n",
       "      <td>False</td>\n",
       "    </tr>\n",
       "    <tr>\n",
       "      <th>5</th>\n",
       "      <td>100345</td>\n",
       "      <td>2023-04-22 09:10:09</td>\n",
       "      <td>2023-04-22 09:49:56</td>\n",
       "      <td>Лесная</td>\n",
       "      <td>Юго-Восточный</td>\n",
       "      <td>Западная</td>\n",
       "      <td>Ленинский</td>\n",
       "      <td>4879.0</td>\n",
       "      <td>False</td>\n",
       "    </tr>\n",
       "    <tr>\n",
       "      <th>6</th>\n",
       "      <td>100346</td>\n",
       "      <td>2023-04-22 09:15:12</td>\n",
       "      <td>2023-04-22 09:26:01</td>\n",
       "      <td>Пролетарская</td>\n",
       "      <td>Центральный</td>\n",
       "      <td>Свободы</td>\n",
       "      <td>Ленинский</td>\n",
       "      <td>1846.0</td>\n",
       "      <td>False</td>\n",
       "    </tr>\n",
       "    <tr>\n",
       "      <th>7</th>\n",
       "      <td>100347</td>\n",
       "      <td>2023-04-22 09:19:13</td>\n",
       "      <td>2023-04-22 09:40:03</td>\n",
       "      <td>Комарова</td>\n",
       "      <td>Ленинский</td>\n",
       "      <td>ул. западная</td>\n",
       "      <td>Ленинский</td>\n",
       "      <td>3133.0</td>\n",
       "      <td>False</td>\n",
       "    </tr>\n",
       "  </tbody>\n",
       "</table>\n",
       "</div>"
      ],
      "text/plain": [
       "       id          start_date            end_date start_location  \\\n",
       "0  100340 2023-04-22 09:01:03 2023-04-22 09:24:45       Шевченко   \n",
       "1  100341 2023-04-22 09:01:07 2023-04-22 09:29:32         Чехова   \n",
       "2  100342 2023-04-22 09:04:27 2023-04-22 09:42:46      Буденного   \n",
       "3  100343 2023-04-22 09:06:34 2023-04-22 09:38:23          Труда   \n",
       "4  100344 2023-04-22 09:09:27 2023-04-22 09:40:07   Первомайская   \n",
       "5  100345 2023-04-22 09:10:09 2023-04-22 09:49:56         Лесная   \n",
       "6  100346 2023-04-22 09:15:12 2023-04-22 09:26:01   Пролетарская   \n",
       "7  100347 2023-04-22 09:19:13 2023-04-22 09:40:03       Комарова   \n",
       "\n",
       "    start_district  end_location     end_district  distance  promo  \n",
       "0    Юго-Восточный       Майская      Октябрьский    4069.0  False  \n",
       "1         заречный    Спортивная      октябрьский    4515.0  False  \n",
       "2      Октябрьский      Суворова        ленинский    4520.0  False  \n",
       "3      Центральный       Рабочая  Северо-Западный    3881.0  False  \n",
       "4  Северо-Западный     Юбилейная    Юго-Восточный    4029.0  False  \n",
       "5    Юго-Восточный      Западная        Ленинский    4879.0  False  \n",
       "6      Центральный       Свободы        Ленинский    1846.0  False  \n",
       "7        Ленинский  ул. западная        Ленинский    3133.0  False  "
      ]
     },
     "execution_count": 10,
     "metadata": {},
     "output_type": "execute_result"
    }
   ],
   "source": [
    "data_rides['start_date'] = pd.to_datetime(data_rides['start_date']) \n",
    "data_rides['end_date'] = pd.to_datetime(data_rides['end_date']) \n",
    "data_rides = data_rides.astype({\"distance\" : float, \"promo\": bool})\n",
    "data_rides.head(8)"
   ]
  },
  {
   "cell_type": "code",
   "execution_count": 21,
   "metadata": {},
   "outputs": [
    {
     "name": "stdout",
     "output_type": "stream",
     "text": [
      "<class 'pandas.core.frame.DataFrame'>\n",
      "Index: 97372 entries, 0 to 102254\n",
      "Data columns (total 9 columns):\n",
      " #   Column          Non-Null Count  Dtype         \n",
      "---  ------          --------------  -----         \n",
      " 0   id              97372 non-null  int64         \n",
      " 1   start_date      97372 non-null  datetime64[ns]\n",
      " 2   end_date        96817 non-null  datetime64[ns]\n",
      " 3   start_location  97372 non-null  object        \n",
      " 4   start_district  97372 non-null  object        \n",
      " 5   end_location    97372 non-null  object        \n",
      " 6   end_district    97372 non-null  object        \n",
      " 7   distance        96191 non-null  float64       \n",
      " 8   promo           97372 non-null  bool          \n",
      "dtypes: bool(1), datetime64[ns](2), float64(1), int64(1), object(4)\n",
      "memory usage: 6.8+ MB\n"
     ]
    }
   ],
   "source": [
    "data_rides = data_rides.drop_duplicates()\n",
    "data_rides.info()"
   ]
  },
  {
   "cell_type": "code",
   "execution_count": 24,
   "metadata": {},
   "outputs": [
    {
     "name": "stdout",
     "output_type": "stream",
     "text": [
      "Количество выбросов: 4700\n"
     ]
    }
   ],
   "source": [
    "Q1 = data_rides['distance'].quantile(0.25)\n",
    "Q3 = data_rides['distance'].quantile(0.75)\n",
    "IQR = Q3 - Q1\n",
    "\n",
    "# Условия для выбросов\n",
    "lower_bound = Q1 - 1.5 * IQR\n",
    "upper_bound = Q3 + 1.5 * IQR\n",
    "\n",
    "# Проверка выбросов\n",
    "outliers = data_rides[(data_rides['distance'] < lower_bound) | (data_rides['distance'] > upper_bound)]\n",
    "print(f'Количество выбросов: {outliers.shape[0]}')"
   ]
  },
  {
   "cell_type": "code",
   "execution_count": 25,
   "metadata": {},
   "outputs": [
    {
     "name": "stdout",
     "output_type": "stream",
     "text": [
      "Пропуски в данных:\n",
      "id                   0\n",
      "start_date           0\n",
      "end_date           555\n",
      "start_location       0\n",
      "start_district       0\n",
      "end_location         0\n",
      "end_district         0\n",
      "distance          1181\n",
      "promo                0\n",
      "dtype: int64\n"
     ]
    }
   ],
   "source": [
    "# Замена выбросов на медиану\n",
    "median_distance = data_rides['distance'].median()\n",
    "data.loc[data_rides['distance'] < lower_bound, 'distance'] = median_distance\n",
    "data.loc[data_rides['distance'] > upper_bound, 'distance'] = median_distance\n",
    "\n",
    "# Проверка на пропуски\n",
    "missing_values = data_rides.isnull().sum()\n",
    "print(f'Пропуски в данных:\\n{missing_values}')\n",
    "\n",
    "# Заполнение пропусков (если есть)\n",
    "data_rides['distance'].fillna(median_distance, inplace=True)"
   ]
  },
  {
   "cell_type": "code",
   "execution_count": 28,
   "metadata": {},
   "outputs": [
    {
     "name": "stdout",
     "output_type": "stream",
     "text": [
      "<class 'pandas.core.frame.DataFrame'>\n",
      "Index: 97372 entries, 0 to 102254\n",
      "Data columns (total 9 columns):\n",
      " #   Column          Non-Null Count  Dtype         \n",
      "---  ------          --------------  -----         \n",
      " 0   id              97372 non-null  int64         \n",
      " 1   start_date      97372 non-null  datetime64[ns]\n",
      " 2   end_date        96817 non-null  datetime64[ns]\n",
      " 3   start_location  97372 non-null  object        \n",
      " 4   start_district  97372 non-null  object        \n",
      " 5   end_location    97372 non-null  object        \n",
      " 6   end_district    97372 non-null  object        \n",
      " 7   distance        97372 non-null  float64       \n",
      " 8   promo           97372 non-null  bool          \n",
      "dtypes: bool(1), datetime64[ns](2), float64(1), int64(1), object(4)\n",
      "memory usage: 6.8+ MB\n"
     ]
    }
   ],
   "source": [
    "data_rides.info()"
   ]
  },
  {
   "cell_type": "code",
   "execution_count": 26,
   "metadata": {},
   "outputs": [
    {
     "data": {
      "image/png": "[encoded data removed]",
      "text/plain": [
       "<Figure size 1000x600 with 1 Axes>"
      ]
     },
     "metadata": {},
     "output_type": "display_data"
    },
    {
     "data": {
      "image/png": "[encoded data removed]",
      "text/plain": [
       "<Figure size 640x480 with 1 Axes>"
      ]
     },
     "metadata": {},
     "output_type": "display_data"
    }
   ],
   "source": [
    "# График распределения расстояний\n",
    "plt.figure(figsize=(10, 6))\n",
    "sns.histplot(data['distance'], bins=30, kde=True)\n",
    "plt.title('Распределение расстояний')\n",
    "plt.xlabel('Расстояние (м)')\n",
    "plt.ylabel('Частота')\n",
    "plt.show()\n",
    "\n",
    "# Анализ промокодов\n",
    "promo_counts = data['promo'].value_counts()\n",
    "sns.barplot(x=promo_counts.index, y=promo_counts.values)\n",
    "plt.title('Использование промокодов')\n",
    "plt.xlabel('Промокод')\n",
    "plt.ylabel('Количество')\n",
    "plt.show()"
   ]
  }
 ],
 "metadata": {
  "kernelspec": {
   "display_name": "Python 3",
   "language": "python",
   "name": "python3"
  },
  "language_info": {
   "codemirror_mode": {
    "name": "ipython",
    "version": 3
   },
   "file_extension": ".py",
   "mimetype": "text/x-python",
   "name": "python",
   "nbconvert_exporter": "python",
   "pygments_lexer": "ipython3",
   "version": "3.11.9"
  }
 },
 "nbformat": 4,
 "nbformat_minor": 2
}
